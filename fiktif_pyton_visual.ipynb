{
  "nbformat": 4,
  "nbformat_minor": 0,
  "metadata": {
    "colab": {
      "provenance": [],
      "authorship_tag": "ABX9TyN5MRFhuIiG1O6ieBNdKHhG",
      "include_colab_link": true
    },
    "kernelspec": {
      "name": "python3",
      "display_name": "Python 3"
    },
    "language_info": {
      "name": "python"
    }
  },
  "cells": [
    {
      "cell_type": "markdown",
      "metadata": {
        "id": "view-in-github",
        "colab_type": "text"
      },
      "source": [
        "<a href=\"https://colab.research.google.com/github/AhmadFirmanto/Portfolio-pyton/blob/main/fiktif_pyton_visual.ipynb\" target=\"_parent\"><img src=\"https://colab.research.google.com/assets/colab-badge.svg\" alt=\"Open In Colab\"/></a>"
      ]
    },
    {
      "cell_type": "code",
      "execution_count": 1,
      "metadata": {
        "id": "KOvpxzf-TaDg"
      },
      "outputs": [],
      "source": [
        "import pandas as pd\n",
        "import numpy as np\n",
        "import matplotlib.pyplot as plt\n",
        "import seaborn as sns"
      ]
    },
    {
      "cell_type": "markdown",
      "source": [
        "# read data"
      ],
      "metadata": {
        "id": "pA5IFoe9Tudj"
      }
    },
    {
      "cell_type": "code",
      "source": [
        "from google.colab import drive\n",
        "drive.mount('/content/gdrive')"
      ],
      "metadata": {
        "colab": {
          "base_uri": "https://localhost:8080/"
        },
        "id": "LIOoRfBaTwcX",
        "outputId": "2a722844-656b-4706-8c4d-db76ec07fa99"
      },
      "execution_count": 2,
      "outputs": [
        {
          "output_type": "stream",
          "name": "stdout",
          "text": [
            "Mounted at /content/gdrive\n"
          ]
        }
      ]
    },
    {
      "cell_type": "code",
      "source": [
        "drive = ('/content/gdrive/MyDrive/study kasus - e-comers fiktif (RevoU)/fiktif-pyton-visual.csv') "
      ],
      "metadata": {
        "id": "MtlTmWerUGZt"
      },
      "execution_count": 3,
      "outputs": []
    },
    {
      "cell_type": "code",
      "source": [
        "print(drive)\n",
        "df = pd.read_csv(drive)\n",
        "df.head()"
      ],
      "metadata": {
        "colab": {
          "base_uri": "https://localhost:8080/",
          "height": 354
        },
        "id": "eqwgi23YUcXB",
        "outputId": "b1ba3a82-3889-4f8d-8626-88488a9fba92"
      },
      "execution_count": 4,
      "outputs": [
        {
          "output_type": "stream",
          "name": "stdout",
          "text": [
            "/content/gdrive/MyDrive/study kasus - e-comers fiktif (RevoU)/fiktif-pyton-visual.csv\n"
          ]
        },
        {
          "output_type": "execute_result",
          "data": {
            "text/plain": [
              "   order_id_oi  user_id_oi  product_id_oi            created_at_oi  status_oi  \\\n",
              "0       113506       90491           7886  2019-01-06 11:45:53 UTC   Returned   \n",
              "1        50514       40341           2052  2019-01-12 07:55:57 UTC  Cancelled   \n",
              "2        79164       63238           6176  2019-01-13 07:41:00 UTC    Shipped   \n",
              "3        61138       48721          27215  2019-01-15 09:13:24 UTC    Shipped   \n",
              "4        61138       48721          28608  2019-01-16 08:20:11 UTC    Shipped   \n",
              "\n",
              "   sale_price_oi  num_of_item_o gender_o                     category_p  \\\n",
              "0      10.900000              1        F              Blazers & Jackets   \n",
              "1     130.000000              1        F  Fashion Hoodies & Sweatshirts   \n",
              "2      18.969999              1        F                       Leggings   \n",
              "3      49.950001              2        M                 Sleep & Lounge   \n",
              "4       7.950000              2        M                    Accessories   \n",
              "\n",
              "   country_u  jumlah_transaksi  \n",
              "0      China         10.900000  \n",
              "1  Australia        130.000000  \n",
              "2      Spain         18.969999  \n",
              "3     Poland         99.900002  \n",
              "4     Poland         15.900000  "
            ],
            "text/html": [
              "\n",
              "  <div id=\"df-2a47a85e-dc44-41dd-a268-4f64838ff67a\">\n",
              "    <div class=\"colab-df-container\">\n",
              "      <div>\n",
              "<style scoped>\n",
              "    .dataframe tbody tr th:only-of-type {\n",
              "        vertical-align: middle;\n",
              "    }\n",
              "\n",
              "    .dataframe tbody tr th {\n",
              "        vertical-align: top;\n",
              "    }\n",
              "\n",
              "    .dataframe thead th {\n",
              "        text-align: right;\n",
              "    }\n",
              "</style>\n",
              "<table border=\"1\" class=\"dataframe\">\n",
              "  <thead>\n",
              "    <tr style=\"text-align: right;\">\n",
              "      <th></th>\n",
              "      <th>order_id_oi</th>\n",
              "      <th>user_id_oi</th>\n",
              "      <th>product_id_oi</th>\n",
              "      <th>created_at_oi</th>\n",
              "      <th>status_oi</th>\n",
              "      <th>sale_price_oi</th>\n",
              "      <th>num_of_item_o</th>\n",
              "      <th>gender_o</th>\n",
              "      <th>category_p</th>\n",
              "      <th>country_u</th>\n",
              "      <th>jumlah_transaksi</th>\n",
              "    </tr>\n",
              "  </thead>\n",
              "  <tbody>\n",
              "    <tr>\n",
              "      <th>0</th>\n",
              "      <td>113506</td>\n",
              "      <td>90491</td>\n",
              "      <td>7886</td>\n",
              "      <td>2019-01-06 11:45:53 UTC</td>\n",
              "      <td>Returned</td>\n",
              "      <td>10.900000</td>\n",
              "      <td>1</td>\n",
              "      <td>F</td>\n",
              "      <td>Blazers &amp; Jackets</td>\n",
              "      <td>China</td>\n",
              "      <td>10.900000</td>\n",
              "    </tr>\n",
              "    <tr>\n",
              "      <th>1</th>\n",
              "      <td>50514</td>\n",
              "      <td>40341</td>\n",
              "      <td>2052</td>\n",
              "      <td>2019-01-12 07:55:57 UTC</td>\n",
              "      <td>Cancelled</td>\n",
              "      <td>130.000000</td>\n",
              "      <td>1</td>\n",
              "      <td>F</td>\n",
              "      <td>Fashion Hoodies &amp; Sweatshirts</td>\n",
              "      <td>Australia</td>\n",
              "      <td>130.000000</td>\n",
              "    </tr>\n",
              "    <tr>\n",
              "      <th>2</th>\n",
              "      <td>79164</td>\n",
              "      <td>63238</td>\n",
              "      <td>6176</td>\n",
              "      <td>2019-01-13 07:41:00 UTC</td>\n",
              "      <td>Shipped</td>\n",
              "      <td>18.969999</td>\n",
              "      <td>1</td>\n",
              "      <td>F</td>\n",
              "      <td>Leggings</td>\n",
              "      <td>Spain</td>\n",
              "      <td>18.969999</td>\n",
              "    </tr>\n",
              "    <tr>\n",
              "      <th>3</th>\n",
              "      <td>61138</td>\n",
              "      <td>48721</td>\n",
              "      <td>27215</td>\n",
              "      <td>2019-01-15 09:13:24 UTC</td>\n",
              "      <td>Shipped</td>\n",
              "      <td>49.950001</td>\n",
              "      <td>2</td>\n",
              "      <td>M</td>\n",
              "      <td>Sleep &amp; Lounge</td>\n",
              "      <td>Poland</td>\n",
              "      <td>99.900002</td>\n",
              "    </tr>\n",
              "    <tr>\n",
              "      <th>4</th>\n",
              "      <td>61138</td>\n",
              "      <td>48721</td>\n",
              "      <td>28608</td>\n",
              "      <td>2019-01-16 08:20:11 UTC</td>\n",
              "      <td>Shipped</td>\n",
              "      <td>7.950000</td>\n",
              "      <td>2</td>\n",
              "      <td>M</td>\n",
              "      <td>Accessories</td>\n",
              "      <td>Poland</td>\n",
              "      <td>15.900000</td>\n",
              "    </tr>\n",
              "  </tbody>\n",
              "</table>\n",
              "</div>\n",
              "      <button class=\"colab-df-convert\" onclick=\"convertToInteractive('df-2a47a85e-dc44-41dd-a268-4f64838ff67a')\"\n",
              "              title=\"Convert this dataframe to an interactive table.\"\n",
              "              style=\"display:none;\">\n",
              "        \n",
              "  <svg xmlns=\"http://www.w3.org/2000/svg\" height=\"24px\"viewBox=\"0 0 24 24\"\n",
              "       width=\"24px\">\n",
              "    <path d=\"M0 0h24v24H0V0z\" fill=\"none\"/>\n",
              "    <path d=\"M18.56 5.44l.94 2.06.94-2.06 2.06-.94-2.06-.94-.94-2.06-.94 2.06-2.06.94zm-11 1L8.5 8.5l.94-2.06 2.06-.94-2.06-.94L8.5 2.5l-.94 2.06-2.06.94zm10 10l.94 2.06.94-2.06 2.06-.94-2.06-.94-.94-2.06-.94 2.06-2.06.94z\"/><path d=\"M17.41 7.96l-1.37-1.37c-.4-.4-.92-.59-1.43-.59-.52 0-1.04.2-1.43.59L10.3 9.45l-7.72 7.72c-.78.78-.78 2.05 0 2.83L4 21.41c.39.39.9.59 1.41.59.51 0 1.02-.2 1.41-.59l7.78-7.78 2.81-2.81c.8-.78.8-2.07 0-2.86zM5.41 20L4 18.59l7.72-7.72 1.47 1.35L5.41 20z\"/>\n",
              "  </svg>\n",
              "      </button>\n",
              "      \n",
              "  <style>\n",
              "    .colab-df-container {\n",
              "      display:flex;\n",
              "      flex-wrap:wrap;\n",
              "      gap: 12px;\n",
              "    }\n",
              "\n",
              "    .colab-df-convert {\n",
              "      background-color: #E8F0FE;\n",
              "      border: none;\n",
              "      border-radius: 50%;\n",
              "      cursor: pointer;\n",
              "      display: none;\n",
              "      fill: #1967D2;\n",
              "      height: 32px;\n",
              "      padding: 0 0 0 0;\n",
              "      width: 32px;\n",
              "    }\n",
              "\n",
              "    .colab-df-convert:hover {\n",
              "      background-color: #E2EBFA;\n",
              "      box-shadow: 0px 1px 2px rgba(60, 64, 67, 0.3), 0px 1px 3px 1px rgba(60, 64, 67, 0.15);\n",
              "      fill: #174EA6;\n",
              "    }\n",
              "\n",
              "    [theme=dark] .colab-df-convert {\n",
              "      background-color: #3B4455;\n",
              "      fill: #D2E3FC;\n",
              "    }\n",
              "\n",
              "    [theme=dark] .colab-df-convert:hover {\n",
              "      background-color: #434B5C;\n",
              "      box-shadow: 0px 1px 3px 1px rgba(0, 0, 0, 0.15);\n",
              "      filter: drop-shadow(0px 1px 2px rgba(0, 0, 0, 0.3));\n",
              "      fill: #FFFFFF;\n",
              "    }\n",
              "  </style>\n",
              "\n",
              "      <script>\n",
              "        const buttonEl =\n",
              "          document.querySelector('#df-2a47a85e-dc44-41dd-a268-4f64838ff67a button.colab-df-convert');\n",
              "        buttonEl.style.display =\n",
              "          google.colab.kernel.accessAllowed ? 'block' : 'none';\n",
              "\n",
              "        async function convertToInteractive(key) {\n",
              "          const element = document.querySelector('#df-2a47a85e-dc44-41dd-a268-4f64838ff67a');\n",
              "          const dataTable =\n",
              "            await google.colab.kernel.invokeFunction('convertToInteractive',\n",
              "                                                     [key], {});\n",
              "          if (!dataTable) return;\n",
              "\n",
              "          const docLinkHtml = 'Like what you see? Visit the ' +\n",
              "            '<a target=\"_blank\" href=https://colab.research.google.com/notebooks/data_table.ipynb>data table notebook</a>'\n",
              "            + ' to learn more about interactive tables.';\n",
              "          element.innerHTML = '';\n",
              "          dataTable['output_type'] = 'display_data';\n",
              "          await google.colab.output.renderOutput(dataTable, element);\n",
              "          const docLink = document.createElement('div');\n",
              "          docLink.innerHTML = docLinkHtml;\n",
              "          element.appendChild(docLink);\n",
              "        }\n",
              "      </script>\n",
              "    </div>\n",
              "  </div>\n",
              "  "
            ]
          },
          "metadata": {},
          "execution_count": 4
        }
      ]
    },
    {
      "cell_type": "code",
      "source": [
        "df.info()"
      ],
      "metadata": {
        "colab": {
          "base_uri": "https://localhost:8080/"
        },
        "id": "yQ36D1YiUwlb",
        "outputId": "59bba05f-8d59-4b26-d095-c2704e15c1f4"
      },
      "execution_count": 5,
      "outputs": [
        {
          "output_type": "stream",
          "name": "stdout",
          "text": [
            "<class 'pandas.core.frame.DataFrame'>\n",
            "RangeIndex: 181798 entries, 0 to 181797\n",
            "Data columns (total 11 columns):\n",
            " #   Column            Non-Null Count   Dtype  \n",
            "---  ------            --------------   -----  \n",
            " 0   order_id_oi       181798 non-null  int64  \n",
            " 1   user_id_oi        181798 non-null  int64  \n",
            " 2   product_id_oi     181798 non-null  int64  \n",
            " 3   created_at_oi     181798 non-null  object \n",
            " 4   status_oi         181798 non-null  object \n",
            " 5   sale_price_oi     181798 non-null  float64\n",
            " 6   num_of_item_o     181798 non-null  int64  \n",
            " 7   gender_o          181798 non-null  object \n",
            " 8   category_p        181798 non-null  object \n",
            " 9   country_u         181798 non-null  object \n",
            " 10  jumlah_transaksi  181798 non-null  float64\n",
            "dtypes: float64(2), int64(4), object(5)\n",
            "memory usage: 15.3+ MB\n"
          ]
        }
      ]
    },
    {
      "cell_type": "markdown",
      "source": [
        "# clining"
      ],
      "metadata": {
        "id": "qR5EDcrzVbpt"
      }
    },
    {
      "cell_type": "code",
      "source": [
        "# copy data\n",
        "\n",
        "fiktif = df.copy()"
      ],
      "metadata": {
        "id": "aXtO9jxMVefO"
      },
      "execution_count": 6,
      "outputs": []
    },
    {
      "cell_type": "code",
      "source": [
        "# merubah format tanggal\n",
        "\n",
        "fiktif['created_at_oi'] = pd.to_datetime(fiktif['created_at_oi'])"
      ],
      "metadata": {
        "id": "p798580VWWuR"
      },
      "execution_count": 7,
      "outputs": []
    },
    {
      "cell_type": "code",
      "source": [
        "fiktif.info()"
      ],
      "metadata": {
        "colab": {
          "base_uri": "https://localhost:8080/"
        },
        "id": "Q8dZ5S-7X2HA",
        "outputId": "72d38505-0805-4959-a651-5282d2973208"
      },
      "execution_count": 8,
      "outputs": [
        {
          "output_type": "stream",
          "name": "stdout",
          "text": [
            "<class 'pandas.core.frame.DataFrame'>\n",
            "RangeIndex: 181798 entries, 0 to 181797\n",
            "Data columns (total 11 columns):\n",
            " #   Column            Non-Null Count   Dtype              \n",
            "---  ------            --------------   -----              \n",
            " 0   order_id_oi       181798 non-null  int64              \n",
            " 1   user_id_oi        181798 non-null  int64              \n",
            " 2   product_id_oi     181798 non-null  int64              \n",
            " 3   created_at_oi     181798 non-null  datetime64[ns, UTC]\n",
            " 4   status_oi         181798 non-null  object             \n",
            " 5   sale_price_oi     181798 non-null  float64            \n",
            " 6   num_of_item_o     181798 non-null  int64              \n",
            " 7   gender_o          181798 non-null  object             \n",
            " 8   category_p        181798 non-null  object             \n",
            " 9   country_u         181798 non-null  object             \n",
            " 10  jumlah_transaksi  181798 non-null  float64            \n",
            "dtypes: datetime64[ns, UTC](1), float64(2), int64(4), object(4)\n",
            "memory usage: 15.3+ MB\n"
          ]
        }
      ]
    },
    {
      "cell_type": "code",
      "source": [
        "# cek typo\n",
        "\n",
        "fiktif['status_oi'].value_counts()"
      ],
      "metadata": {
        "id": "Z-VyAmsmYXcV",
        "colab": {
          "base_uri": "https://localhost:8080/"
        },
        "outputId": "464bfa6a-4677-489d-bf92-04feff9fc6c8"
      },
      "execution_count": 9,
      "outputs": [
        {
          "output_type": "execute_result",
          "data": {
            "text/plain": [
              "Shipped       55016\n",
              "Complete      45089\n",
              "Processing    36340\n",
              "Cancelled     27518\n",
              "Returned      17835\n",
              "Name: status_oi, dtype: int64"
            ]
          },
          "metadata": {},
          "execution_count": 9
        }
      ]
    },
    {
      "cell_type": "code",
      "source": [
        "fiktif['num_of_item_o'].value_counts()"
      ],
      "metadata": {
        "colab": {
          "base_uri": "https://localhost:8080/"
        },
        "id": "P913vjccLMJa",
        "outputId": "a1c9cfa2-fd88-4994-9dc7-57df419b4dc7"
      },
      "execution_count": 10,
      "outputs": [
        {
          "output_type": "execute_result",
          "data": {
            "text/plain": [
              "1    87794\n",
              "2    50620\n",
              "4    24640\n",
              "3    18744\n",
              "Name: num_of_item_o, dtype: int64"
            ]
          },
          "metadata": {},
          "execution_count": 10
        }
      ]
    },
    {
      "cell_type": "code",
      "source": [
        "fiktif['gender_o'].value_counts()"
      ],
      "metadata": {
        "colab": {
          "base_uri": "https://localhost:8080/"
        },
        "id": "ZCRQNtsQLfBY",
        "outputId": "6e28b70b-cbb4-40c8-d706-637c036ec237"
      },
      "execution_count": 11,
      "outputs": [
        {
          "output_type": "execute_result",
          "data": {
            "text/plain": [
              "M    91467\n",
              "F    90331\n",
              "Name: gender_o, dtype: int64"
            ]
          },
          "metadata": {},
          "execution_count": 11
        }
      ]
    },
    {
      "cell_type": "code",
      "source": [
        "fiktif['country_u'].value_counts()"
      ],
      "metadata": {
        "colab": {
          "base_uri": "https://localhost:8080/"
        },
        "id": "PtBlWH_gLq4q",
        "outputId": "007fdbda-fee6-4515-c983-ca9b9c042085"
      },
      "execution_count": 12,
      "outputs": [
        {
          "output_type": "execute_result",
          "data": {
            "text/plain": [
              "China             60929\n",
              "United States     41317\n",
              "Brasil            26507\n",
              "South Korea        9851\n",
              "United Kingdom     8442\n",
              "France             8414\n",
              "Germany            7659\n",
              "Spain              7256\n",
              "Japan              4501\n",
              "Australia          4189\n",
              "Belgium            2255\n",
              "Poland              437\n",
              "Colombia             22\n",
              "Deutschland           8\n",
              "España                7\n",
              "Austria               4\n",
              "Name: country_u, dtype: int64"
            ]
          },
          "metadata": {},
          "execution_count": 12
        }
      ]
    },
    {
      "cell_type": "code",
      "source": [
        "# cek duplikat\n",
        "\n",
        "fiktif[fiktif.duplicated()]"
      ],
      "metadata": {
        "colab": {
          "base_uri": "https://localhost:8080/",
          "height": 49
        },
        "id": "IlDHUqkhMWv2",
        "outputId": "36ae5852-99ff-4f22-ffa7-0fa7bca33658"
      },
      "execution_count": 14,
      "outputs": [
        {
          "output_type": "execute_result",
          "data": {
            "text/plain": [
              "Empty DataFrame\n",
              "Columns: [order_id_oi, user_id_oi, product_id_oi, created_at_oi, status_oi, sale_price_oi, num_of_item_o, gender_o, category_p, country_u, jumlah_transaksi]\n",
              "Index: []"
            ],
            "text/html": [
              "\n",
              "  <div id=\"df-baa16243-9d03-4f4f-8887-79d70a9761f0\">\n",
              "    <div class=\"colab-df-container\">\n",
              "      <div>\n",
              "<style scoped>\n",
              "    .dataframe tbody tr th:only-of-type {\n",
              "        vertical-align: middle;\n",
              "    }\n",
              "\n",
              "    .dataframe tbody tr th {\n",
              "        vertical-align: top;\n",
              "    }\n",
              "\n",
              "    .dataframe thead th {\n",
              "        text-align: right;\n",
              "    }\n",
              "</style>\n",
              "<table border=\"1\" class=\"dataframe\">\n",
              "  <thead>\n",
              "    <tr style=\"text-align: right;\">\n",
              "      <th></th>\n",
              "      <th>order_id_oi</th>\n",
              "      <th>user_id_oi</th>\n",
              "      <th>product_id_oi</th>\n",
              "      <th>created_at_oi</th>\n",
              "      <th>status_oi</th>\n",
              "      <th>sale_price_oi</th>\n",
              "      <th>num_of_item_o</th>\n",
              "      <th>gender_o</th>\n",
              "      <th>category_p</th>\n",
              "      <th>country_u</th>\n",
              "      <th>jumlah_transaksi</th>\n",
              "    </tr>\n",
              "  </thead>\n",
              "  <tbody>\n",
              "  </tbody>\n",
              "</table>\n",
              "</div>\n",
              "      <button class=\"colab-df-convert\" onclick=\"convertToInteractive('df-baa16243-9d03-4f4f-8887-79d70a9761f0')\"\n",
              "              title=\"Convert this dataframe to an interactive table.\"\n",
              "              style=\"display:none;\">\n",
              "        \n",
              "  <svg xmlns=\"http://www.w3.org/2000/svg\" height=\"24px\"viewBox=\"0 0 24 24\"\n",
              "       width=\"24px\">\n",
              "    <path d=\"M0 0h24v24H0V0z\" fill=\"none\"/>\n",
              "    <path d=\"M18.56 5.44l.94 2.06.94-2.06 2.06-.94-2.06-.94-.94-2.06-.94 2.06-2.06.94zm-11 1L8.5 8.5l.94-2.06 2.06-.94-2.06-.94L8.5 2.5l-.94 2.06-2.06.94zm10 10l.94 2.06.94-2.06 2.06-.94-2.06-.94-.94-2.06-.94 2.06-2.06.94z\"/><path d=\"M17.41 7.96l-1.37-1.37c-.4-.4-.92-.59-1.43-.59-.52 0-1.04.2-1.43.59L10.3 9.45l-7.72 7.72c-.78.78-.78 2.05 0 2.83L4 21.41c.39.39.9.59 1.41.59.51 0 1.02-.2 1.41-.59l7.78-7.78 2.81-2.81c.8-.78.8-2.07 0-2.86zM5.41 20L4 18.59l7.72-7.72 1.47 1.35L5.41 20z\"/>\n",
              "  </svg>\n",
              "      </button>\n",
              "      \n",
              "  <style>\n",
              "    .colab-df-container {\n",
              "      display:flex;\n",
              "      flex-wrap:wrap;\n",
              "      gap: 12px;\n",
              "    }\n",
              "\n",
              "    .colab-df-convert {\n",
              "      background-color: #E8F0FE;\n",
              "      border: none;\n",
              "      border-radius: 50%;\n",
              "      cursor: pointer;\n",
              "      display: none;\n",
              "      fill: #1967D2;\n",
              "      height: 32px;\n",
              "      padding: 0 0 0 0;\n",
              "      width: 32px;\n",
              "    }\n",
              "\n",
              "    .colab-df-convert:hover {\n",
              "      background-color: #E2EBFA;\n",
              "      box-shadow: 0px 1px 2px rgba(60, 64, 67, 0.3), 0px 1px 3px 1px rgba(60, 64, 67, 0.15);\n",
              "      fill: #174EA6;\n",
              "    }\n",
              "\n",
              "    [theme=dark] .colab-df-convert {\n",
              "      background-color: #3B4455;\n",
              "      fill: #D2E3FC;\n",
              "    }\n",
              "\n",
              "    [theme=dark] .colab-df-convert:hover {\n",
              "      background-color: #434B5C;\n",
              "      box-shadow: 0px 1px 3px 1px rgba(0, 0, 0, 0.15);\n",
              "      filter: drop-shadow(0px 1px 2px rgba(0, 0, 0, 0.3));\n",
              "      fill: #FFFFFF;\n",
              "    }\n",
              "  </style>\n",
              "\n",
              "      <script>\n",
              "        const buttonEl =\n",
              "          document.querySelector('#df-baa16243-9d03-4f4f-8887-79d70a9761f0 button.colab-df-convert');\n",
              "        buttonEl.style.display =\n",
              "          google.colab.kernel.accessAllowed ? 'block' : 'none';\n",
              "\n",
              "        async function convertToInteractive(key) {\n",
              "          const element = document.querySelector('#df-baa16243-9d03-4f4f-8887-79d70a9761f0');\n",
              "          const dataTable =\n",
              "            await google.colab.kernel.invokeFunction('convertToInteractive',\n",
              "                                                     [key], {});\n",
              "          if (!dataTable) return;\n",
              "\n",
              "          const docLinkHtml = 'Like what you see? Visit the ' +\n",
              "            '<a target=\"_blank\" href=https://colab.research.google.com/notebooks/data_table.ipynb>data table notebook</a>'\n",
              "            + ' to learn more about interactive tables.';\n",
              "          element.innerHTML = '';\n",
              "          dataTable['output_type'] = 'display_data';\n",
              "          await google.colab.output.renderOutput(dataTable, element);\n",
              "          const docLink = document.createElement('div');\n",
              "          docLink.innerHTML = docLinkHtml;\n",
              "          element.appendChild(docLink);\n",
              "        }\n",
              "      </script>\n",
              "    </div>\n",
              "  </div>\n",
              "  "
            ]
          },
          "metadata": {},
          "execution_count": 14
        }
      ]
    },
    {
      "cell_type": "code",
      "source": [
        "fiktif.describe()"
      ],
      "metadata": {
        "colab": {
          "base_uri": "https://localhost:8080/",
          "height": 300
        },
        "id": "3MVXcpKYVGRM",
        "outputId": "09dc11ab-4858-42ce-b99b-5cbf0dd984b0"
      },
      "execution_count": 37,
      "outputs": [
        {
          "output_type": "execute_result",
          "data": {
            "text/plain": [
              "         order_id_oi     user_id_oi  product_id_oi  sale_price_oi  \\\n",
              "count  181798.000000  181798.000000  181798.000000  181798.000000   \n",
              "mean    62794.601486   50097.781307   15305.674276      59.714439   \n",
              "std     36270.845190   28939.355061    8411.934052      66.916276   \n",
              "min         1.000000       1.000000       1.000000       0.020000   \n",
              "25%     31423.000000   25103.000000    8048.000000      24.950001   \n",
              "50%     62745.500000   50027.500000   16065.000000      39.990002   \n",
              "75%     94242.000000   75251.000000   22581.000000      69.949997   \n",
              "max    125512.000000   99999.000000   29120.000000     999.000000   \n",
              "\n",
              "       num_of_item_o  jumlah_transaksi  \n",
              "count  181798.000000     181798.000000  \n",
              "mean        1.891253        112.784551  \n",
              "std         1.056572        157.190139  \n",
              "min         1.000000          0.020000  \n",
              "25%         1.000000         34.000000  \n",
              "50%         2.000000         65.000000  \n",
              "75%         2.000000        131.960007  \n",
              "max         4.000000       3996.000000  "
            ],
            "text/html": [
              "\n",
              "  <div id=\"df-93823ad2-414a-4130-97cd-5fd8893a85dc\">\n",
              "    <div class=\"colab-df-container\">\n",
              "      <div>\n",
              "<style scoped>\n",
              "    .dataframe tbody tr th:only-of-type {\n",
              "        vertical-align: middle;\n",
              "    }\n",
              "\n",
              "    .dataframe tbody tr th {\n",
              "        vertical-align: top;\n",
              "    }\n",
              "\n",
              "    .dataframe thead th {\n",
              "        text-align: right;\n",
              "    }\n",
              "</style>\n",
              "<table border=\"1\" class=\"dataframe\">\n",
              "  <thead>\n",
              "    <tr style=\"text-align: right;\">\n",
              "      <th></th>\n",
              "      <th>order_id_oi</th>\n",
              "      <th>user_id_oi</th>\n",
              "      <th>product_id_oi</th>\n",
              "      <th>sale_price_oi</th>\n",
              "      <th>num_of_item_o</th>\n",
              "      <th>jumlah_transaksi</th>\n",
              "    </tr>\n",
              "  </thead>\n",
              "  <tbody>\n",
              "    <tr>\n",
              "      <th>count</th>\n",
              "      <td>181798.000000</td>\n",
              "      <td>181798.000000</td>\n",
              "      <td>181798.000000</td>\n",
              "      <td>181798.000000</td>\n",
              "      <td>181798.000000</td>\n",
              "      <td>181798.000000</td>\n",
              "    </tr>\n",
              "    <tr>\n",
              "      <th>mean</th>\n",
              "      <td>62794.601486</td>\n",
              "      <td>50097.781307</td>\n",
              "      <td>15305.674276</td>\n",
              "      <td>59.714439</td>\n",
              "      <td>1.891253</td>\n",
              "      <td>112.784551</td>\n",
              "    </tr>\n",
              "    <tr>\n",
              "      <th>std</th>\n",
              "      <td>36270.845190</td>\n",
              "      <td>28939.355061</td>\n",
              "      <td>8411.934052</td>\n",
              "      <td>66.916276</td>\n",
              "      <td>1.056572</td>\n",
              "      <td>157.190139</td>\n",
              "    </tr>\n",
              "    <tr>\n",
              "      <th>min</th>\n",
              "      <td>1.000000</td>\n",
              "      <td>1.000000</td>\n",
              "      <td>1.000000</td>\n",
              "      <td>0.020000</td>\n",
              "      <td>1.000000</td>\n",
              "      <td>0.020000</td>\n",
              "    </tr>\n",
              "    <tr>\n",
              "      <th>25%</th>\n",
              "      <td>31423.000000</td>\n",
              "      <td>25103.000000</td>\n",
              "      <td>8048.000000</td>\n",
              "      <td>24.950001</td>\n",
              "      <td>1.000000</td>\n",
              "      <td>34.000000</td>\n",
              "    </tr>\n",
              "    <tr>\n",
              "      <th>50%</th>\n",
              "      <td>62745.500000</td>\n",
              "      <td>50027.500000</td>\n",
              "      <td>16065.000000</td>\n",
              "      <td>39.990002</td>\n",
              "      <td>2.000000</td>\n",
              "      <td>65.000000</td>\n",
              "    </tr>\n",
              "    <tr>\n",
              "      <th>75%</th>\n",
              "      <td>94242.000000</td>\n",
              "      <td>75251.000000</td>\n",
              "      <td>22581.000000</td>\n",
              "      <td>69.949997</td>\n",
              "      <td>2.000000</td>\n",
              "      <td>131.960007</td>\n",
              "    </tr>\n",
              "    <tr>\n",
              "      <th>max</th>\n",
              "      <td>125512.000000</td>\n",
              "      <td>99999.000000</td>\n",
              "      <td>29120.000000</td>\n",
              "      <td>999.000000</td>\n",
              "      <td>4.000000</td>\n",
              "      <td>3996.000000</td>\n",
              "    </tr>\n",
              "  </tbody>\n",
              "</table>\n",
              "</div>\n",
              "      <button class=\"colab-df-convert\" onclick=\"convertToInteractive('df-93823ad2-414a-4130-97cd-5fd8893a85dc')\"\n",
              "              title=\"Convert this dataframe to an interactive table.\"\n",
              "              style=\"display:none;\">\n",
              "        \n",
              "  <svg xmlns=\"http://www.w3.org/2000/svg\" height=\"24px\"viewBox=\"0 0 24 24\"\n",
              "       width=\"24px\">\n",
              "    <path d=\"M0 0h24v24H0V0z\" fill=\"none\"/>\n",
              "    <path d=\"M18.56 5.44l.94 2.06.94-2.06 2.06-.94-2.06-.94-.94-2.06-.94 2.06-2.06.94zm-11 1L8.5 8.5l.94-2.06 2.06-.94-2.06-.94L8.5 2.5l-.94 2.06-2.06.94zm10 10l.94 2.06.94-2.06 2.06-.94-2.06-.94-.94-2.06-.94 2.06-2.06.94z\"/><path d=\"M17.41 7.96l-1.37-1.37c-.4-.4-.92-.59-1.43-.59-.52 0-1.04.2-1.43.59L10.3 9.45l-7.72 7.72c-.78.78-.78 2.05 0 2.83L4 21.41c.39.39.9.59 1.41.59.51 0 1.02-.2 1.41-.59l7.78-7.78 2.81-2.81c.8-.78.8-2.07 0-2.86zM5.41 20L4 18.59l7.72-7.72 1.47 1.35L5.41 20z\"/>\n",
              "  </svg>\n",
              "      </button>\n",
              "      \n",
              "  <style>\n",
              "    .colab-df-container {\n",
              "      display:flex;\n",
              "      flex-wrap:wrap;\n",
              "      gap: 12px;\n",
              "    }\n",
              "\n",
              "    .colab-df-convert {\n",
              "      background-color: #E8F0FE;\n",
              "      border: none;\n",
              "      border-radius: 50%;\n",
              "      cursor: pointer;\n",
              "      display: none;\n",
              "      fill: #1967D2;\n",
              "      height: 32px;\n",
              "      padding: 0 0 0 0;\n",
              "      width: 32px;\n",
              "    }\n",
              "\n",
              "    .colab-df-convert:hover {\n",
              "      background-color: #E2EBFA;\n",
              "      box-shadow: 0px 1px 2px rgba(60, 64, 67, 0.3), 0px 1px 3px 1px rgba(60, 64, 67, 0.15);\n",
              "      fill: #174EA6;\n",
              "    }\n",
              "\n",
              "    [theme=dark] .colab-df-convert {\n",
              "      background-color: #3B4455;\n",
              "      fill: #D2E3FC;\n",
              "    }\n",
              "\n",
              "    [theme=dark] .colab-df-convert:hover {\n",
              "      background-color: #434B5C;\n",
              "      box-shadow: 0px 1px 3px 1px rgba(0, 0, 0, 0.15);\n",
              "      filter: drop-shadow(0px 1px 2px rgba(0, 0, 0, 0.3));\n",
              "      fill: #FFFFFF;\n",
              "    }\n",
              "  </style>\n",
              "\n",
              "      <script>\n",
              "        const buttonEl =\n",
              "          document.querySelector('#df-93823ad2-414a-4130-97cd-5fd8893a85dc button.colab-df-convert');\n",
              "        buttonEl.style.display =\n",
              "          google.colab.kernel.accessAllowed ? 'block' : 'none';\n",
              "\n",
              "        async function convertToInteractive(key) {\n",
              "          const element = document.querySelector('#df-93823ad2-414a-4130-97cd-5fd8893a85dc');\n",
              "          const dataTable =\n",
              "            await google.colab.kernel.invokeFunction('convertToInteractive',\n",
              "                                                     [key], {});\n",
              "          if (!dataTable) return;\n",
              "\n",
              "          const docLinkHtml = 'Like what you see? Visit the ' +\n",
              "            '<a target=\"_blank\" href=https://colab.research.google.com/notebooks/data_table.ipynb>data table notebook</a>'\n",
              "            + ' to learn more about interactive tables.';\n",
              "          element.innerHTML = '';\n",
              "          dataTable['output_type'] = 'display_data';\n",
              "          await google.colab.output.renderOutput(dataTable, element);\n",
              "          const docLink = document.createElement('div');\n",
              "          docLink.innerHTML = docLinkHtml;\n",
              "          element.appendChild(docLink);\n",
              "        }\n",
              "      </script>\n",
              "    </div>\n",
              "  </div>\n",
              "  "
            ]
          },
          "metadata": {},
          "execution_count": 37
        }
      ]
    },
    {
      "cell_type": "code",
      "source": [
        "d = fiktif[['sale_price_oi','jumlah_transaksi']]"
      ],
      "metadata": {
        "id": "cotVcOF8VlFK"
      },
      "execution_count": 42,
      "outputs": []
    },
    {
      "cell_type": "code",
      "source": [
        "d.describe()"
      ],
      "metadata": {
        "colab": {
          "base_uri": "https://localhost:8080/",
          "height": 300
        },
        "id": "ZMUMopePWdNw",
        "outputId": "c8967e19-a4f1-4113-a263-8c0f798dee0e"
      },
      "execution_count": 43,
      "outputs": [
        {
          "output_type": "execute_result",
          "data": {
            "text/plain": [
              "       sale_price_oi  jumlah_transaksi\n",
              "count  181798.000000     181798.000000\n",
              "mean       59.714439        112.784551\n",
              "std        66.916276        157.190139\n",
              "min         0.020000          0.020000\n",
              "25%        24.950001         34.000000\n",
              "50%        39.990002         65.000000\n",
              "75%        69.949997        131.960007\n",
              "max       999.000000       3996.000000"
            ],
            "text/html": [
              "\n",
              "  <div id=\"df-64bf5a43-ad8d-45a4-8903-92f01bdf3d40\">\n",
              "    <div class=\"colab-df-container\">\n",
              "      <div>\n",
              "<style scoped>\n",
              "    .dataframe tbody tr th:only-of-type {\n",
              "        vertical-align: middle;\n",
              "    }\n",
              "\n",
              "    .dataframe tbody tr th {\n",
              "        vertical-align: top;\n",
              "    }\n",
              "\n",
              "    .dataframe thead th {\n",
              "        text-align: right;\n",
              "    }\n",
              "</style>\n",
              "<table border=\"1\" class=\"dataframe\">\n",
              "  <thead>\n",
              "    <tr style=\"text-align: right;\">\n",
              "      <th></th>\n",
              "      <th>sale_price_oi</th>\n",
              "      <th>jumlah_transaksi</th>\n",
              "    </tr>\n",
              "  </thead>\n",
              "  <tbody>\n",
              "    <tr>\n",
              "      <th>count</th>\n",
              "      <td>181798.000000</td>\n",
              "      <td>181798.000000</td>\n",
              "    </tr>\n",
              "    <tr>\n",
              "      <th>mean</th>\n",
              "      <td>59.714439</td>\n",
              "      <td>112.784551</td>\n",
              "    </tr>\n",
              "    <tr>\n",
              "      <th>std</th>\n",
              "      <td>66.916276</td>\n",
              "      <td>157.190139</td>\n",
              "    </tr>\n",
              "    <tr>\n",
              "      <th>min</th>\n",
              "      <td>0.020000</td>\n",
              "      <td>0.020000</td>\n",
              "    </tr>\n",
              "    <tr>\n",
              "      <th>25%</th>\n",
              "      <td>24.950001</td>\n",
              "      <td>34.000000</td>\n",
              "    </tr>\n",
              "    <tr>\n",
              "      <th>50%</th>\n",
              "      <td>39.990002</td>\n",
              "      <td>65.000000</td>\n",
              "    </tr>\n",
              "    <tr>\n",
              "      <th>75%</th>\n",
              "      <td>69.949997</td>\n",
              "      <td>131.960007</td>\n",
              "    </tr>\n",
              "    <tr>\n",
              "      <th>max</th>\n",
              "      <td>999.000000</td>\n",
              "      <td>3996.000000</td>\n",
              "    </tr>\n",
              "  </tbody>\n",
              "</table>\n",
              "</div>\n",
              "      <button class=\"colab-df-convert\" onclick=\"convertToInteractive('df-64bf5a43-ad8d-45a4-8903-92f01bdf3d40')\"\n",
              "              title=\"Convert this dataframe to an interactive table.\"\n",
              "              style=\"display:none;\">\n",
              "        \n",
              "  <svg xmlns=\"http://www.w3.org/2000/svg\" height=\"24px\"viewBox=\"0 0 24 24\"\n",
              "       width=\"24px\">\n",
              "    <path d=\"M0 0h24v24H0V0z\" fill=\"none\"/>\n",
              "    <path d=\"M18.56 5.44l.94 2.06.94-2.06 2.06-.94-2.06-.94-.94-2.06-.94 2.06-2.06.94zm-11 1L8.5 8.5l.94-2.06 2.06-.94-2.06-.94L8.5 2.5l-.94 2.06-2.06.94zm10 10l.94 2.06.94-2.06 2.06-.94-2.06-.94-.94-2.06-.94 2.06-2.06.94z\"/><path d=\"M17.41 7.96l-1.37-1.37c-.4-.4-.92-.59-1.43-.59-.52 0-1.04.2-1.43.59L10.3 9.45l-7.72 7.72c-.78.78-.78 2.05 0 2.83L4 21.41c.39.39.9.59 1.41.59.51 0 1.02-.2 1.41-.59l7.78-7.78 2.81-2.81c.8-.78.8-2.07 0-2.86zM5.41 20L4 18.59l7.72-7.72 1.47 1.35L5.41 20z\"/>\n",
              "  </svg>\n",
              "      </button>\n",
              "      \n",
              "  <style>\n",
              "    .colab-df-container {\n",
              "      display:flex;\n",
              "      flex-wrap:wrap;\n",
              "      gap: 12px;\n",
              "    }\n",
              "\n",
              "    .colab-df-convert {\n",
              "      background-color: #E8F0FE;\n",
              "      border: none;\n",
              "      border-radius: 50%;\n",
              "      cursor: pointer;\n",
              "      display: none;\n",
              "      fill: #1967D2;\n",
              "      height: 32px;\n",
              "      padding: 0 0 0 0;\n",
              "      width: 32px;\n",
              "    }\n",
              "\n",
              "    .colab-df-convert:hover {\n",
              "      background-color: #E2EBFA;\n",
              "      box-shadow: 0px 1px 2px rgba(60, 64, 67, 0.3), 0px 1px 3px 1px rgba(60, 64, 67, 0.15);\n",
              "      fill: #174EA6;\n",
              "    }\n",
              "\n",
              "    [theme=dark] .colab-df-convert {\n",
              "      background-color: #3B4455;\n",
              "      fill: #D2E3FC;\n",
              "    }\n",
              "\n",
              "    [theme=dark] .colab-df-convert:hover {\n",
              "      background-color: #434B5C;\n",
              "      box-shadow: 0px 1px 3px 1px rgba(0, 0, 0, 0.15);\n",
              "      filter: drop-shadow(0px 1px 2px rgba(0, 0, 0, 0.3));\n",
              "      fill: #FFFFFF;\n",
              "    }\n",
              "  </style>\n",
              "\n",
              "      <script>\n",
              "        const buttonEl =\n",
              "          document.querySelector('#df-64bf5a43-ad8d-45a4-8903-92f01bdf3d40 button.colab-df-convert');\n",
              "        buttonEl.style.display =\n",
              "          google.colab.kernel.accessAllowed ? 'block' : 'none';\n",
              "\n",
              "        async function convertToInteractive(key) {\n",
              "          const element = document.querySelector('#df-64bf5a43-ad8d-45a4-8903-92f01bdf3d40');\n",
              "          const dataTable =\n",
              "            await google.colab.kernel.invokeFunction('convertToInteractive',\n",
              "                                                     [key], {});\n",
              "          if (!dataTable) return;\n",
              "\n",
              "          const docLinkHtml = 'Like what you see? Visit the ' +\n",
              "            '<a target=\"_blank\" href=https://colab.research.google.com/notebooks/data_table.ipynb>data table notebook</a>'\n",
              "            + ' to learn more about interactive tables.';\n",
              "          element.innerHTML = '';\n",
              "          dataTable['output_type'] = 'display_data';\n",
              "          await google.colab.output.renderOutput(dataTable, element);\n",
              "          const docLink = document.createElement('div');\n",
              "          docLink.innerHTML = docLinkHtml;\n",
              "          element.appendChild(docLink);\n",
              "        }\n",
              "      </script>\n",
              "    </div>\n",
              "  </div>\n",
              "  "
            ]
          },
          "metadata": {},
          "execution_count": 43
        }
      ]
    }
  ]
}